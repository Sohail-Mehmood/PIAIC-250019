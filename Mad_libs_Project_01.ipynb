{
  "nbformat": 4,
  "nbformat_minor": 0,
  "metadata": {
    "colab": {
      "provenance": [],
      "authorship_tag": "ABX9TyN3w2zdE6bq3wDols89FwgC",
      "include_colab_link": true
    },
    "kernelspec": {
      "name": "python3",
      "display_name": "Python 3"
    },
    "language_info": {
      "name": "python"
    }
  },
  "cells": [
    {
      "cell_type": "markdown",
      "metadata": {
        "id": "view-in-github",
        "colab_type": "text"
      },
      "source": [
        "<a href=\"https://colab.research.google.com/github/Sohail-Mehmood/PIAIC-250019/blob/main/Mad_libs_Project_01.ipynb\" target=\"_parent\"><img src=\"https://colab.research.google.com/assets/colab-badge.svg\" alt=\"Open In Colab\"/></a>"
      ]
    },
    {
      "cell_type": "markdown",
      "source": [
        "Custom Madlibs Story of Sohail Mehmood"
      ],
      "metadata": {
        "id": "SHDDyX6fvCB4"
      }
    },
    {
      "cell_type": "code",
      "source": [
        "def custom_mad_libs_game():\n",
        "    print(\"Welcome to my personalized Mad Libs story!\")\n",
        "\n",
        "    # Take user input for each part of the story\n",
        "    name = input(\"Enter your Name: \")\n",
        "    age = int(input(\"Enter your Age:\"))\n",
        "    job = input(\"Enter your job (e.g., govt employee of): \")\n",
        "    part_time_job = input(\"Enter your part-time job description: \")\n",
        "    course_name = input(\"Enter the name of the course you're taking: \")\n",
        "    course_description = \" great course to learn without any IT background\"\n",
        "\n",
        "    # Create a story with the user-provided inputs\n",
        "    story = (f\"\\nMy Name is {name} and I am doing job at {job}. And i am {age} years old. \\nI have a secret passion for technology.\\nFurthermore, i worked as a {part_time_job} part time. \\nOne day, i decided to join a course called {course_name}. It is excited because it is a {course_description}. \\nLittle did they know, this course would change my perspective on AI and open up new opportunities for me!\")\n",
        "\n",
        "    # Display the personalized story\n",
        "    print(\"\\nWelcome to my personalized Mad Libs story!\")\n",
        "    print(story)\n",
        "    # Start the custom Mad Libs game\n",
        "custom_mad_libs_game()\n"
      ],
      "metadata": {
        "colab": {
          "base_uri": "https://localhost:8080/"
        },
        "id": "DTgIis0a2sH5",
        "outputId": "a6d9e469-b6d1-4115-83d5-60482f6951b5"
      },
      "execution_count": null,
      "outputs": [
        {
          "output_type": "stream",
          "name": "stdout",
          "text": [
            "Welcome to my personalized Mad Libs story!\n",
            "Enter your Name: Sohail Mehmood\n",
            "Enter your Age:35\n",
            "Enter your job (e.g., govt employee of): Pakistan Post\n",
            "Enter your part-time job description: SEO Specialist\n",
            "Enter the name of the course you're taking: Agentic Ai\n",
            "\n",
            "Welcome to my personalized Mad Libs story!\n",
            "\n",
            "My Name is Sohail Mehmood and I am doing job at Pakistan Post. And i am 35 years old. \n",
            "I have a secret passion for technology.\n",
            "Furthermore, i worked as a SEO Specialist part time. \n",
            "One day, i decided to join a course called Agentic Ai. It is excited because it is a  great course to learn without any IT background. \n",
            "Little did they know, this course would change my perspective on AI and open up new opportunities for me!\n"
          ]
        }
      ]
    }
  ]
}